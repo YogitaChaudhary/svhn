{
 "cells": [
  {
   "cell_type": "markdown",
   "metadata": {},
   "source": [
    "# Street View House Numbers - Indexed Search"
   ]
  },
  {
   "cell_type": "code",
   "execution_count": 1,
   "metadata": {
    "collapsed": false
   },
   "outputs": [
    {
     "name": "stderr",
     "output_type": "stream",
     "text": [
      "Using TensorFlow backend.\n"
     ]
    },
    {
     "name": "stdout",
     "output_type": "stream",
     "text": [
      "Keras version : 1.2.0\n"
     ]
    },
    {
     "name": "stderr",
     "output_type": "stream",
     "text": [
      "/Users/devin/anaconda/envs/tensorflow/lib/python2.7/site-packages/sklearn/cross_validation.py:44: DeprecationWarning: This module was deprecated in version 0.18 in favor of the model_selection module into which all the refactored classes and functions are moved. Also note that the interface of the new CV iterators are different from that of this module. This module will be removed in 0.20.\n",
      "  \"This module will be removed in 0.20.\", DeprecationWarning)\n"
     ]
    }
   ],
   "source": [
    "import numpy as np\n",
    "import matplotlib.pyplot as plt\n",
    "import svhn\n",
    "import graphics\n",
    "import keras_utils\n",
    "from keras.utils import np_utils\n",
    "import preprocessing\n",
    "from sklearn.cross_validation import train_test_split\n",
    "\n",
    "%matplotlib inline\n",
    "\n",
    "# define some constants\n",
    "max_digits = 7\n",
    "image_size = (54,128)\n",
    "checkpoint_path = '../checkpoints/model2.hdf5'\n",
    "resume_training = True\n",
    "\n",
    "# print the keras version used\n",
    "import keras\n",
    "print \"Keras version : {}\".format(keras.__version__)"
   ]
  },
  {
   "cell_type": "markdown",
   "metadata": {},
   "source": [
    "## Generate data\n",
    "For training, we will use a flattened dataset, where each training sample represents one digit. The inputs per sample will be resized image and the index of digit which needs to be detected, and outputs will be the number of digits in the image and the digit at given index.\n",
    "\n",
    "Because of flattening the dataset, the training set for label detector will be expanded, while the one for counter will have repeated samples. So in a way, the label detector will have more data to train with, but the counter can be assumed to be trained for more epochs.\n",
    "\n",
    "change **nsamples** below to **33402** to train with full dataset"
   ]
  },
  {
   "cell_type": "code",
   "execution_count": 2,
   "metadata": {
    "collapsed": false
   },
   "outputs": [],
   "source": [
    "# read the h5py data file (takes time)\n",
    "rawdata = svhn.read_process_h5('../inputs/train/digitStruct.mat')"
   ]
  },
  {
   "cell_type": "code",
   "execution_count": 20,
   "metadata": {
    "collapsed": true
   },
   "outputs": [],
   "source": [
    "nsamples = 100\n",
    "\n",
    "def generateData(data, n=1000):\n",
    "    '''\n",
    "    generates flattened SVHN dataset\n",
    "    '''\n",
    "    Ximg_flat = []\n",
    "    Xidx_flat = []\n",
    "    ylabel_flat = []\n",
    "    \n",
    "    for datapoint in np.random.choice(data, size=n, replace=False):\n",
    "        img,_ = svhn.createImageData(datapoint, image_size, '../inputs/train/')\n",
    "        for i in range(0,max_digits):\n",
    "            Ximg_flat.append(img)\n",
    "            Xidx_flat.append(i)\n",
    "            if(i<datapoint['length']):\n",
    "                ylabel_flat.append(datapoint['labels'][i])\n",
    "            else:\n",
    "                ylabel_flat.append(0)\n",
    "            \n",
    "    return np.array(Ximg_flat), np.array(Xidx_flat), np.array(ylabel_flat)\n",
    "\n",
    "Ximg, Xidx, ylabel = generateData(rawdata, nsamples)\n",
    "Xidx = np_utils.to_categorical(Xidx, max_digits)\n",
    "ylabel = np_utils.to_categorical(ylabel, 11)\n",
    "\n",
    "Ximg, Ximg_val, Xidx, Xidx_val, ylabel, ylabel_val = train_test_split(Ximg, Xidx, ylabel, test_size=0.1)"
   ]
  },
  {
   "cell_type": "code",
   "execution_count": 21,
   "metadata": {
    "collapsed": false
   },
   "outputs": [],
   "source": [
    "datagen = preprocessing.SVHNImageDataGenerator(\n",
    "    width_shift_range=0.2,\n",
    "    height_shift_range=0.15,\n",
    "    shear_range=0.4,\n",
    "    zoom_range=[1.0,1.6])\n",
    "\n",
    "datagen.fit(Ximg)"
   ]
  },
  {
   "cell_type": "markdown",
   "metadata": {},
   "source": [
    "## Create Deep Learning Network\n",
    "Our deep learning network consists of a shared vision model, a counter and a label detector.\n",
    "\n",
    "The vision model processes input image of fixed size using Convolutional Neural Networks and produces a dense tensor of shape (1024,). This tensor is then processed by a counter which is made of fully connected layers. The counter output is used to generates indices, which are combined with the vision model output and fed to label detector, which outputs a label for each index."
   ]
  },
  {
   "cell_type": "code",
   "execution_count": 16,
   "metadata": {
    "collapsed": false
   },
   "outputs": [],
   "source": [
    "from keras.layers import Input, Dense, Merge, Flatten, Dropout, merge\n",
    "from keras.layers.convolutional import Convolution2D\n",
    "from keras.layers.pooling import MaxPooling2D\n",
    "from keras.models import Model, Sequential\n",
    "\n",
    "# define vision model\n",
    "image_in_vision = Input(shape=(image_size[0],image_size[1],3))\n",
    "x = Convolution2D(32, 3, 3, activation='tanh')(image_in_vision)\n",
    "x = Convolution2D(32, 3, 3, activation='relu')(x)\n",
    "x = Dropout(0.2)(x)\n",
    "x = MaxPooling2D(pool_size=(2,2))(x)\n",
    "x = Convolution2D(64, 3, 3, activation='relu')(x)\n",
    "x = Convolution2D(64, 3, 3, activation='relu')(x)\n",
    "x = Dropout(0.2)(x)\n",
    "x = MaxPooling2D(pool_size=(2,2))(x)\n",
    "x = Convolution2D(128, 3, 3, activation='relu')(x)\n",
    "x = Convolution2D(128, 3, 3, activation='relu')(x)\n",
    "x = Dropout(0.2)(x)\n",
    "x = MaxPooling2D(pool_size=(2,2))(x)\n",
    "x = Flatten()(x)\n",
    "h = Dense(1024, activation='relu')(x)\n",
    "vision_model = Model(input=image_in_vision, output=h, name='vision')\n",
    "\n",
    "# define detector model\n",
    "h_in_detector = Input(shape=(1024,))\n",
    "idx_in_detector = Input(shape=(max_digits,))\n",
    "yl = merge([h_in_detector, idx_in_detector], mode='concat') \n",
    "yl = Dense(512, activation='relu')(yl)\n",
    "yl = Dropout(0.2)(yl)\n",
    "yl = Dense(512, activation='relu')(yl)\n",
    "yl = Dropout(0.2)(yl)\n",
    "yl = Dense(11, activation='softmax')(yl)\n",
    "detector_model = Model(input=[h_in_detector, idx_in_detector], output=yl, name='detector')\n",
    "\n",
    "# define training graph\n",
    "Ximg_in = Input(shape=(image_size[0], image_size[1], 3), name='train_input_img')\n",
    "Xidx_in = Input(shape=(max_digits,), name='train_input_idx')\n",
    "h = vision_model(Ximg_in)\n",
    "yl = detector_model([h, Xidx_in])\n",
    "\n",
    "train_graph = Model(input=[Ximg_in, Xidx_in], output=yl)\n",
    "train_graph.compile(optimizer='adamax', loss='categorical_crossentropy', metrics=['accuracy'])"
   ]
  },
  {
   "cell_type": "code",
   "execution_count": 17,
   "metadata": {
    "collapsed": true
   },
   "outputs": [],
   "source": [
    "# save the entire training graph\n",
    "with open('../checkpoints/model2.yaml','w') as model_def:\n",
    "    model_def.write(train_graph.to_yaml())"
   ]
  },
  {
   "cell_type": "code",
   "execution_count": 18,
   "metadata": {
    "collapsed": false
   },
   "outputs": [],
   "source": [
    "# resume training if instructed and weights file exists\n",
    "import os.path\n",
    "if resume_training and os.path.isfile(checkpoint_path):\n",
    "    train_graph.load_weights(checkpoint_path)"
   ]
  },
  {
   "cell_type": "markdown",
   "metadata": {},
   "source": [
    "## Training\n",
    "DynamicPlot callback displays dynamically updated training metric plots instead of default progress bars. This gives a concise but dynamic view of training."
   ]
  },
  {
   "cell_type": "code",
   "execution_count": 25,
   "metadata": {
    "collapsed": false
   },
   "outputs": [
    {
     "name": "stdout",
     "output_type": "stream",
     "text": [
      "Epoch 1/3\n",
      "630/630 [==============================] - 33s - loss: 0.7979 - acc: 0.7270 - val_loss: 1.1530 - val_acc: 0.6571\n",
      "Epoch 2/3\n",
      "630/630 [==============================] - 33s - loss: 0.8074 - acc: 0.7222 - val_loss: 1.1527 - val_acc: 0.6571\n",
      "Epoch 3/3\n",
      "630/630 [==============================] - 33s - loss: 0.8027 - acc: 0.7238 - val_loss: 1.1307 - val_acc: 0.6714\n"
     ]
    }
   ],
   "source": [
    "# define checkpoint callback\n",
    "checkpoint = keras.callbacks.ModelCheckpoint(filepath=checkpoint_path, monitor='val_loss', mode='min', save_best_only=True)\n",
    "\n",
    "history = train_graph.fit_generator(datagen.flow(Ximg, Xidx, ylabel, batch_size=64),\n",
    "                          nb_epoch=3, samples_per_epoch=len(Xidx),\n",
    "                          validation_data=([Ximg_val, Xidx_val], ylabel_val),\n",
    "                          callbacks=[checkpoint])"
   ]
  },
  {
   "cell_type": "markdown",
   "metadata": {},
   "source": [
    "## Training History\n",
    "Here we plot the loss and accuracy metrics of counter and detector from Keras history callback"
   ]
  },
  {
   "cell_type": "code",
   "execution_count": 26,
   "metadata": {
    "collapsed": false
   },
   "outputs": [
    {
     "data": {
      "text/plain": [
       "<matplotlib.legend.Legend at 0x13100f150>"
      ]
     },
     "execution_count": 26,
     "metadata": {},
     "output_type": "execute_result"
    },
    {
     "data": {
      "image/png": "[encoded data removed]",
      "text/plain": [
       "<matplotlib.figure.Figure at 0x130f730d0>"
      ]
     },
     "metadata": {},
     "output_type": "display_data"
    }
   ],
   "source": [
    "plt.figure(figsize=(12,4))\n",
    "plt.subplot(1, 2, 1)\n",
    "ctl_plot = plt.plot(history.history['loss'], 'r', label='training')\n",
    "cvl_plot = plt.plot(history.history['val_loss'], 'g', label='validation')\n",
    "plt.xlabel('epoch')\n",
    "plt.ylabel('loss')\n",
    "plt.title('loss')\n",
    "plt.legend()\n",
    "plt.subplot(1, 2, 2)\n",
    "plt.plot(history.history['acc'], 'r', label='training')\n",
    "plt.plot(history.history['val_acc'], 'g', label='validation')\n",
    "plt.xlabel('epoch')\n",
    "plt.ylabel('accuracy')\n",
    "plt.title('accuracy')\n",
    "plt.legend(loc=4)"
   ]
  },
  {
   "cell_type": "code",
   "execution_count": null,
   "metadata": {
    "collapsed": true
   },
   "outputs": [],
   "source": []
  }
 ],
 "metadata": {
  "anaconda-cloud": {},
  "kernelspec": {
   "display_name": "Python [tensorflow]",
   "language": "python",
   "name": "Python [tensorflow]"
  },
  "language_info": {
   "codemirror_mode": {
    "name": "ipython",
    "version": 2
   },
   "file_extension": ".py",
   "mimetype": "text/x-python",
   "name": "python",
   "nbconvert_exporter": "python",
   "pygments_lexer": "ipython2",
   "version": "2.7.12"
  }
 },
 "nbformat": 4,
 "nbformat_minor": 1
}
