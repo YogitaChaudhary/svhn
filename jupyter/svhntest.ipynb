{
 "cells": [
  {
   "cell_type": "markdown",
   "metadata": {},
   "source": [
    "# Street View House Numbers - Evaluation on Test dataset"
   ]
  },
  {
   "cell_type": "code",
   "execution_count": 1,
   "metadata": {
    "collapsed": false
   },
   "outputs": [
    {
     "name": "stderr",
     "output_type": "stream",
     "text": [
      "Using TensorFlow backend.\n"
     ]
    },
    {
     "name": "stdout",
     "output_type": "stream",
     "text": [
      "Keras version : 1.2.0\n"
     ]
    }
   ],
   "source": [
    "import numpy as np\n",
    "import matplotlib.pyplot as plt\n",
    "import svhn\n",
    "import graphics\n",
    "import keras_utils\n",
    "from keras.utils import np_utils\n",
    "import keras\n",
    "from keras import backend as K\n",
    "\n",
    "%matplotlib inline\n",
    "\n",
    "max_digits = 7\n",
    "image_size = (54,128)\n",
    "\n",
    "# print the keras version used\n",
    "import keras\n",
    "print \"Keras version : {}\".format(keras.__version__)"
   ]
  },
  {
   "cell_type": "markdown",
   "metadata": {},
   "source": [
    "## Load test dataset\n",
    "Here we load the sample points as individual prediction targets. We will not flatten the data like we did during training, since we have to predict the complete sequence of digits in an image together."
   ]
  },
  {
   "cell_type": "code",
   "execution_count": 2,
   "metadata": {
    "collapsed": false
   },
   "outputs": [],
   "source": [
    "# load the data file (takes time)\n",
    "rawdata = svhn.read_process_h5('../inputs/test/digitStruct.mat')"
   ]
  },
  {
   "cell_type": "code",
   "execution_count": 3,
   "metadata": {
    "collapsed": false
   },
   "outputs": [],
   "source": [
    "# extract resized images, counts and label sequences for each sample\n",
    "def generateTestData(data, n=100):\n",
    "    Ximg = []\n",
    "    ylabel = []\n",
    "    for datapoint in np.random.choice(data, size=n, replace=False):\n",
    "        img,rawsize = svhn.createImageData(datapoint, image_size, '../inputs/test/')\n",
    "        Ximg.append(img)\n",
    "        ylabel.append(datapoint['labels'])\n",
    "        \n",
    "    return np.array(Ximg), np.array(ylabel)\n",
    "    \n",
    "# change to 13068 to test on full test dataset\n",
    "Ximg, ycount, ylabel = generateTestData(rawdata, 13068)"
   ]
  },
  {
   "cell_type": "markdown",
   "metadata": {},
   "source": [
    "## Load models\n",
    "Our training graph is composed of macro models - vision, counter and label detector. While it was suitable for training on flattened data, we will need to organize the models differently to generate sequence predictions.\n",
    "Extract the models from parent graph."
   ]
  },
  {
   "cell_type": "code",
   "execution_count": 28,
   "metadata": {
    "collapsed": false
   },
   "outputs": [
    {
     "name": "stdout",
     "output_type": "stream",
     "text": [
      "layer 0 : train_input_img\n",
      "layer 1 : vision\n",
      "layer 2 : train_input_idx\n",
      "layer 3 : detector\n"
     ]
    }
   ],
   "source": [
    "model_yaml = open('../checkpoints/model2.yaml','r')\n",
    "model = keras.models.model_from_yaml(model_yaml.read())\n",
    "model_yaml.close()\n",
    "model.load_weights('../checkpoints/model2.hdf5')\n",
    "\n",
    "# enumerate the layers of main graph\n",
    "for i,layer in zip(range(len(model.layers)), model.layers):\n",
    "    print \"layer {} : {}\".format(i,layer.name)"
   ]
  },
  {
   "cell_type": "code",
   "execution_count": 29,
   "metadata": {
    "collapsed": true
   },
   "outputs": [],
   "source": [
    "vision = model.layers[1]\n",
    "detector = model.layers[3]"
   ]
  },
  {
   "cell_type": "markdown",
   "metadata": {},
   "source": [
    "## Prediction\n",
    "For prediction, we will first generate the intermediate output h, from vision model. We will then pass it to counter first. Then the detector will be called for each sample with all indices in one go. \n",
    "\n",
    "The crucial part here is that we want to calculate the intermediate output h only once to save on computations."
   ]
  },
  {
   "cell_type": "code",
   "execution_count": 30,
   "metadata": {
    "collapsed": false
   },
   "outputs": [],
   "source": [
    "h = vision.predict(Ximg)"
   ]
  },
  {
   "cell_type": "code",
   "execution_count": 46,
   "metadata": {
    "collapsed": false
   },
   "outputs": [],
   "source": [
    "ylabel_ = []\n",
    "for i in range(len(Ximg)):\n",
    "    # generate range for each count\n",
    "    indices = np.arange(max_digits)\n",
    "    # one hot encoding for each index\n",
    "    indices = np_utils.to_categorical(indices, max_digits)\n",
    "    # tile h to match shape of indices matrix\n",
    "    hs = np.tile(h[i], (max_digits,1))\n",
    "    \n",
    "    # predict labels for the sample\n",
    "    sample_seq = detector.predict([hs, indices])\n",
    "    sample_seq = np.argmax(sample_seq,1)\n",
    "    ylabel_.append(sample_seq)\n",
    "    \n",
    "ylabel_ = [ylabelrow[ylabelrow!=0] for ylabelrow in ylabel_]\n",
    "ylabel_ = [[0 if y==10 else int(y) for y in ys] for ys in ylabel_]"
   ]
  },
  {
   "cell_type": "markdown",
   "metadata": {},
   "source": [
    "## Evaluation\n",
    "We can evaluate the performance of both counter and label detector to get a better insight on the fit. In the end, we will evaluate the performance of the whole system. We will consider a predicted sequence to be correct only if all labels have been identified successfully, as any wrong classification can result in a totally different house number."
   ]
  },
  {
   "cell_type": "markdown",
   "metadata": {},
   "source": [
    "### Detector Metrics\n",
    "Here we need to presume that counter has made a perfect prediction. If the counter itself has predicted wrong count, then it shouldn't be counted as detector's failure. So we'll evaluate the detector's performance for digits in a sequence till an index such that index is the minimum of true count value and predicted count value."
   ]
  },
  {
   "cell_type": "markdown",
   "metadata": {},
   "source": [
    "### Overall Sequence Prediction Accuracy"
   ]
  },
  {
   "cell_type": "code",
   "execution_count": 48,
   "metadata": {
    "collapsed": false
   },
   "outputs": [
    {
     "name": "stdout",
     "output_type": "stream",
     "text": [
      "Sequence prediction accuracy : 0.0\n"
     ]
    }
   ],
   "source": [
    "def matchSequence(seq, seq_):\n",
    "    return [np.array_equal(seqi, seqi_) for seqi, seqi_ in zip(seq, seq_)]\n",
    "seqmatch = matchSequence(ylabel, ylabel_)\n",
    "print \"Sequence prediction accuracy : {}\".format(np.average(seqmatch))"
   ]
  },
  {
   "cell_type": "code",
   "execution_count": 54,
   "metadata": {
    "collapsed": false
   },
   "outputs": [
    {
     "data": {
      "text/plain": [
       "array([[2, 2], [4, 10], [array(3.0)], [array(8.0)], [2, 5], [array(5.0)],\n",
       "       [3, 6], [1, 10], [4, 4], [1, 2], [3, 7], [3, 3], [array(5.0)],\n",
       "       [3, 4], [2, 5], [5, 8], [4, 3, 2], [4, 8], [1, 1, 7], [2, 5],\n",
       "       [1, 6, 4], [1, 10], [6, 7], [3, 10], [array(9.0)], [array(6.0)],\n",
       "       [2, 7], [8, 4], [2, 5], [1, 6], [2, 2], [1, 1], [1, 8, 7], [2, 3],\n",
       "       [9, 2], [1, 6], [array(1.0)], [3, 3], [2, 4], [2, 2, 7], [4, 8],\n",
       "       [2, 6], [8, 4], [4, 6], [4, 3], [1, 6], [array(4.0)], [1, 1, 10],\n",
       "       [array(5.0)], [array(7.0)], [2, 1], [3, 5], [5, 10], [7, 7], [2, 6],\n",
       "       [1, 4], [array(5.0)], [3, 6], [3, 9], [3, 10], [1, 5], [1, 8, 7],\n",
       "       [array(8.0)], [2, 10], [1, 9], [5, 5], [1, 10], [2, 9, 10],\n",
       "       [2, 8, 9], [1, 2, 6], [array(1.0)], [1, 5], [4, 4], [6, 3], [7, 7],\n",
       "       [1, 2], [1, 1, 2], [1, 2, 7], [4, 2], [2, 4], [3, 3], [4, 6],\n",
       "       [array(3.0)], [1, 2], [1, 5], [2, 4], [array(7.0)], [3, 1],\n",
       "       [1, 9, 10], [array(8.0)], [8, 6], [4, 6], [4, 8], [6, 2],\n",
       "       [array(9.0)], [3, 8, 7], [7, 7], [3, 4], [5, 9], [array(8.0)]], dtype=object)"
      ]
     },
     "execution_count": 54,
     "metadata": {},
     "output_type": "execute_result"
    }
   ],
   "source": [
    "ylabel"
   ]
  },
  {
   "cell_type": "markdown",
   "metadata": {},
   "source": [
    "## Display samples\n",
    "Show some prediction results. The value in brackets is the true value."
   ]
  },
  {
   "cell_type": "code",
   "execution_count": null,
   "metadata": {
    "collapsed": false,
    "scrolled": true
   },
   "outputs": [],
   "source": [
    "graphics.displaySamples(Ximg, ycounttrue=ycount, ycountpred=ycount_, ylabels=ylabel, ylabelspred=ylabel_)"
   ]
  },
  {
   "cell_type": "markdown",
   "metadata": {},
   "source": [
    "## Visualize Convolutions\n",
    "We can visualize the convolutions in vision model to see how the image is being processed. Change **convlayer** to see the convolutions generated by the desired layer."
   ]
  },
  {
   "cell_type": "code",
   "execution_count": null,
   "metadata": {
    "collapsed": false
   },
   "outputs": [],
   "source": [
    "convlayer = 1\n",
    "graphics.showCNNConv(vision, convlayer, Ximg[2])"
   ]
  },
  {
   "cell_type": "code",
   "execution_count": null,
   "metadata": {
    "collapsed": false
   },
   "outputs": [],
   "source": [
    "convlayer = 2\n",
    "graphics.showCNNConv(vision, convlayer, Ximg[2])"
   ]
  },
  {
   "cell_type": "code",
   "execution_count": null,
   "metadata": {
    "collapsed": true
   },
   "outputs": [],
   "source": []
  }
 ],
 "metadata": {
  "anaconda-cloud": {},
  "kernelspec": {
   "display_name": "Python [tensorflow]",
   "language": "python",
   "name": "Python [tensorflow]"
  },
  "language_info": {
   "codemirror_mode": {
    "name": "ipython",
    "version": 2
   },
   "file_extension": ".py",
   "mimetype": "text/x-python",
   "name": "python",
   "nbconvert_exporter": "python",
   "pygments_lexer": "ipython2",
   "version": "2.7.12"
  }
 },
 "nbformat": 4,
 "nbformat_minor": 2
}
