{
 "cells": [
  {
   "cell_type": "markdown",
   "metadata": {},
   "source": [
    "# Street View House Numbers - Evaluation on Test dataset"
   ]
  },
  {
   "cell_type": "code",
   "execution_count": null,
   "metadata": {
    "collapsed": false
   },
   "outputs": [],
   "source": [
    "import numpy as np\n",
    "import matplotlib.pyplot as plt\n",
    "import svhn\n",
    "import graphics\n",
    "import keras_utils\n",
    "from keras.utils import np_utils\n",
    "import keras\n",
    "from keras import backend as K\n",
    "\n",
    "%matplotlib inline\n",
    "\n",
    "max_digits = 7\n",
    "image_size = (54,128)\n",
    "\n",
    "# print the keras version used\n",
    "import keras\n",
    "print \"Keras version : {}\".format(keras.__version__)"
   ]
  },
  {
   "cell_type": "markdown",
   "metadata": {},
   "source": [
    "## Load test dataset\n",
    "Here we load the sample points as individual prediction targets. We will not flatten the data like we did during training, since we have to predict the complete sequence of digits in an image together."
   ]
  },
  {
   "cell_type": "code",
   "execution_count": null,
   "metadata": {
    "collapsed": false
   },
   "outputs": [],
   "source": [
    "# load the data file (takes time)\n",
    "rawdata = svhn.read_process_h5('../inputs/test/digitStruct.mat')"
   ]
  },
  {
   "cell_type": "code",
   "execution_count": null,
   "metadata": {
    "collapsed": false
   },
   "outputs": [],
   "source": [
    "x = im - np.mean(im, axis=(2,0,1), keepdims=True)"
   ]
  },
  {
   "cell_type": "code",
   "execution_count": null,
   "metadata": {
    "collapsed": false
   },
   "outputs": [],
   "source": [
    "# extract resized images, counts and label sequences for each sample\n",
    "def generateTestData(data, n=100):\n",
    "    Ximg = []\n",
    "    ycount = []\n",
    "    ylabel = []\n",
    "    for datapoint in np.random.choice(data, size=n, replace=False):\n",
    "        img,rawsize = svhn.createImageData(datapoint, image_size, '../inputs/test/')\n",
    "        Ximg.append(img)\n",
    "        ycount.append(datapoint['length'])\n",
    "        ylabel.append(datapoint['labels'])\n",
    "        \n",
    "    ylabel = [[0 if y==10 else int(y) for y in ys] for ys in ylabel]\n",
    "    return np.array(Ximg), np.array(ycount), np.array(ylabel)\n",
    "\n",
    "def standardize(img):\n",
    "    s = img - np.mean(img, axis=(2,0,1), keepdims=True)\n",
    "    s /= np.std(s, axis=(2,0,1), keepdims=True)\n",
    "    return s\n",
    "    \n",
    "# change to 13068 to test on full test dataset\n",
    "Ximg, ycount, ylabel = generateTestData(rawdata, 5)\n",
    "Xs = np.array([standardize(x) for x in Ximg])"
   ]
  },
  {
   "cell_type": "markdown",
   "metadata": {},
   "source": [
    "## Load models\n",
    "Our training graph is composed of macro models - vision, counter and label detector. While it was suitable for training on flattened data, we will need to organize the models differently to generate sequence predictions.\n",
    "Extract the models from parent graph."
   ]
  },
  {
   "cell_type": "code",
   "execution_count": null,
   "metadata": {
    "collapsed": false
   },
   "outputs": [],
   "source": [
    "model_yaml = open('../checkpoints/model.yaml','r')\n",
    "model = keras.models.model_from_yaml(model_yaml.read())\n",
    "model_yaml.close()\n",
    "model.load_weights('../checkpoints/model.hdf5')\n",
    "\n",
    "# enumerate the layers of main graph\n",
    "for i,layer in zip(range(len(model.layers)), model.layers):\n",
    "    print \"layer {} : {}\".format(i,layer.name)"
   ]
  },
  {
   "cell_type": "code",
   "execution_count": null,
   "metadata": {
    "collapsed": true
   },
   "outputs": [],
   "source": [
    "# extract the individual models from training graph\n",
    "vision = model.layers[1]\n",
    "counter = model.layers[3]\n",
    "detector = model.layers[4]"
   ]
  },
  {
   "cell_type": "markdown",
   "metadata": {},
   "source": [
    "## Prediction\n",
    "For prediction, we will first generate the intermediate output h, from vision model. We will then pass it to counter first. Then the detector will be called for each sample with all indices in one go. \n",
    "\n",
    "The crucial part here is that we want to calculate the intermediate output h only once to save on computations."
   ]
  },
  {
   "cell_type": "code",
   "execution_count": null,
   "metadata": {
    "collapsed": false
   },
   "outputs": [],
   "source": [
    "h = vision.predict(Xs)"
   ]
  },
  {
   "cell_type": "code",
   "execution_count": null,
   "metadata": {
    "collapsed": false
   },
   "outputs": [],
   "source": [
    "ycount_ = counter.predict(h)\n",
    "ycount_ = np.argmax(ycount_, axis=1)"
   ]
  },
  {
   "cell_type": "code",
   "execution_count": null,
   "metadata": {
    "collapsed": false
   },
   "outputs": [],
   "source": [
    "ylabel_ = []\n",
    "for i in range(len(ycount_)):\n",
    "    # generate range for each count\n",
    "    indices = np.arange(ycount_[i])\n",
    "    # one hot encoding for each index\n",
    "    indices = np_utils.to_categorical(indices, max_digits)\n",
    "    # tile h to match shape of indices matrix\n",
    "    hs = np.tile(h[i], (ycount_[i],1))\n",
    "    \n",
    "    # predict labels for the sample\n",
    "    sample_seq = detector.predict([hs, indices])\n",
    "    sample_seq = np.argmax(sample_seq,1)\n",
    "    ylabel_.append(sample_seq)"
   ]
  },
  {
   "cell_type": "markdown",
   "metadata": {},
   "source": [
    "## Evaluation\n",
    "We can evaluate the performance of both counter and label detector to get a better insight on the fit. In the end, we will evaluate the performance of the whole system. We will consider a predicted sequence to be correct only if all labels have been identified successfully, as any wrong classification can result in a totally different house number."
   ]
  },
  {
   "cell_type": "markdown",
   "metadata": {},
   "source": [
    "### Counter Metrics"
   ]
  },
  {
   "cell_type": "code",
   "execution_count": null,
   "metadata": {
    "collapsed": false
   },
   "outputs": [],
   "source": [
    "from sklearn.metrics import classification_report\n",
    "print classification_report(ycount, ycount_)"
   ]
  },
  {
   "cell_type": "markdown",
   "metadata": {},
   "source": [
    "### Detector Metrics\n",
    "Here we need to presume that counter has made a perfect prediction. If the counter itself has predicted wrong count, then it shouldn't be counted as detector's failure. So we'll evaluate the detector's performance for digits in a sequence till an index such that index is the minimum of true count value and predicted count value."
   ]
  },
  {
   "cell_type": "code",
   "execution_count": null,
   "metadata": {
    "collapsed": true
   },
   "outputs": [],
   "source": [
    "ycmin = np.minimum(ycount, ycount_)\n",
    "\n",
    "# extract labels from ylabel and ylabel_ using ycmin\n",
    "ylabel_det = np.array([ylabelrow[0:ycminc] for ylabelrow,ycminc in zip(ylabel, ycmin)])\n",
    "ylabel_det = np.concatenate(ylabel_det)\n",
    "\n",
    "ylabel_det_= np.array([ylabelrow[0:ycminc] for ylabelrow,ycminc in zip(ylabel_, ycmin)])\n",
    "ylabel_det_= np.concatenate(ylabel_det_)"
   ]
  },
  {
   "cell_type": "code",
   "execution_count": null,
   "metadata": {
    "collapsed": false
   },
   "outputs": [],
   "source": [
    "print classification_report(ylabel_det, ylabel_det_)"
   ]
  },
  {
   "cell_type": "markdown",
   "metadata": {},
   "source": [
    "### Overall Sequence Prediction Accuracy"
   ]
  },
  {
   "cell_type": "code",
   "execution_count": null,
   "metadata": {
    "collapsed": false
   },
   "outputs": [],
   "source": [
    "def matchSequence(seq, seq_):\n",
    "    return [np.array_equal(seqi, seqi_) for seqi, seqi_ in zip(seq, seq_)]\n",
    "seqmatch = matchSequence(ylabel, ylabel_)\n",
    "print \"Sequence prediction accuracy : {}\".format(np.average(seqmatch))"
   ]
  },
  {
   "cell_type": "markdown",
   "metadata": {},
   "source": [
    "## Display samples\n",
    "Show some prediction results. The value in brackets is the true value."
   ]
  },
  {
   "cell_type": "code",
   "execution_count": null,
   "metadata": {
    "collapsed": false,
    "scrolled": true
   },
   "outputs": [],
   "source": [
    "graphics.displaySamples(Ximg, ycounttrue=ycount, ycountpred=ycount_, ylabels=ylabel, ylabelspred=ylabel_)"
   ]
  },
  {
   "cell_type": "markdown",
   "metadata": {},
   "source": [
    "## Visualize Convolutions\n",
    "We can visualize the convolutions in vision model to see how the image is being processed. Change **convlayer** to see the convolutions generated by the desired layer."
   ]
  },
  {
   "cell_type": "code",
   "execution_count": null,
   "metadata": {
    "collapsed": false
   },
   "outputs": [],
   "source": [
    "convlayer = 1\n",
    "graphics.showCNNConv(vision, convlayer, Ximg[2])"
   ]
  },
  {
   "cell_type": "code",
   "execution_count": null,
   "metadata": {
    "collapsed": false
   },
   "outputs": [],
   "source": [
    "convlayer = 2\n",
    "graphics.showCNNConv(vision, convlayer, Ximg[2])"
   ]
  },
  {
   "cell_type": "code",
   "execution_count": null,
   "metadata": {
    "collapsed": true
   },
   "outputs": [],
   "source": []
  }
 ],
 "metadata": {
  "anaconda-cloud": {},
  "kernelspec": {
   "display_name": "Python [tensorflow]",
   "language": "python",
   "name": "Python [tensorflow]"
  },
  "language_info": {
   "codemirror_mode": {
    "name": "ipython",
    "version": 2
   },
   "file_extension": ".py",
   "mimetype": "text/x-python",
   "name": "python",
   "nbconvert_exporter": "python",
   "pygments_lexer": "ipython2",
   "version": "2.7.12"
  }
 },
 "nbformat": 4,
 "nbformat_minor": 2
}
