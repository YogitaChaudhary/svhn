{
 "cells": [
  {
   "cell_type": "markdown",
   "metadata": {},
   "source": [
    "# Street View House Numbers - Indexed Search"
   ]
  },
  {
   "cell_type": "code",
   "execution_count": null,
   "metadata": {
    "collapsed": false
   },
   "outputs": [],
   "source": [
    "import numpy as np\n",
    "import matplotlib.pyplot as plt\n",
    "import svhn\n",
    "import graphics\n",
    "import keras_utils\n",
    "from keras.utils import np_utils\n",
    "\n",
    "\n",
    "%matplotlib inline\n",
    "\n",
    "max_digits = 6\n",
    "image_size = (32,77)\n",
    "checkpoint_path = '../checkpoint/model.hdf5'\n",
    "resume_training = True"
   ]
  },
  {
   "cell_type": "code",
   "execution_count": null,
   "metadata": {
    "collapsed": true
   },
   "outputs": [],
   "source": [
    "rawdata = svhn.read_process_h5('../inputs/train/digitStruct.mat')"
   ]
  },
  {
   "cell_type": "code",
   "execution_count": null,
   "metadata": {
    "collapsed": true
   },
   "outputs": [],
   "source": [
    "def generateData(data, n=1000):    \n",
    "    Ximg_flat = []\n",
    "    Xidx_flat = []\n",
    "    ycount_flat = []\n",
    "    ycoord_flat = []\n",
    "    ylabel_flat = []\n",
    "    \n",
    "    for datapoint in np.random.choice(data, size=n):\n",
    "        img,rawsize = svhn.createImageData(datapoint, image_size)\n",
    "        for i in range(0,datapoint['length']):\n",
    "            Ximg_flat.append(img)\n",
    "            Xidx_flat.append(i)\n",
    "            ycount_flat.append(datapoint['length'])\n",
    "            ycoord_flat.append(svhn.createCoordinates(datapoint, i, rawsize, image_size))\n",
    "            ylabel_flat.append(datapoint['labels'][i])\n",
    "            \n",
    "    ylabel_flat = [0 if y==10 else int(y) for y in ylabel_flat]\n",
    "    return np.array(Ximg_flat), np.array(Xidx_flat), np.array(ycount_flat), np.array(ycoord_flat), np.array(ylabel_flat)"
   ]
  },
  {
   "cell_type": "code",
   "execution_count": null,
   "metadata": {
    "collapsed": false
   },
   "outputs": [],
   "source": [
    "Ximg, Xidx, ycount, ycoord, ylabel = generateData(rawdata, 100)"
   ]
  },
  {
   "cell_type": "code",
   "execution_count": null,
   "metadata": {
    "collapsed": false
   },
   "outputs": [],
   "source": [
    "graphics.displaySamples(Ximg, ytrue=ylabel, ycounttrue=ycount, ycoordtrue=ycoord)"
   ]
  },
  {
   "cell_type": "code",
   "execution_count": null,
   "metadata": {
    "collapsed": false
   },
   "outputs": [],
   "source": [
    "from keras.layers import Input, Dense, Merge, Flatten, Dropout, merge\n",
    "from keras.layers.convolutional import Convolution2D\n",
    "from keras.layers.pooling import MaxPooling2D\n",
    "from keras.models import Model, Sequential\n",
    "\n",
    "vision_model = Sequential()\n",
    "vision_model.add(Convolution2D(32, 3, 3, input_shape=(image_size[0],image_size[1],3), activation='tanh', dim_ordering='tf'))\n",
    "vision_model.add(Convolution2D(32, 3, 3, activation='relu', dim_ordering='tf'))\n",
    "vision_model.add(Dropout(0.2))\n",
    "vision_model.add(MaxPooling2D(pool_size=(2,2), dim_ordering='tf'))\n",
    "\n",
    "vision_model.add(Convolution2D(64, 3, 3, activation='relu', dim_ordering='tf'))\n",
    "vision_model.add(Convolution2D(64, 3, 3, activation='relu', dim_ordering='tf'))\n",
    "vision_model.add(Dropout(0.2))\n",
    "vision_model.add(MaxPooling2D(pool_size=(2,2), dim_ordering='tf'))\n",
    "\n",
    "vision_model.add(Convolution2D(128, 3, 3, activation='relu', dim_ordering='tf'))\n",
    "vision_model.add(MaxPooling2D(pool_size=(2,2), dim_ordering='tf'))\n",
    "vision_model.add(Flatten())\n",
    "vision_model.add(Dense(1024, activation='relu'))\n",
    "\n",
    "image_in = Input(shape=(image_size[0],image_size[1],3), name='image_in')\n",
    "encoded_image = vision_model(image_in)\n",
    "\n",
    "# Create a counter using the vision model output\n",
    "counter_out = Dense(256, activation='relu')(encoded_image)\n",
    "counter_out = Dense(128, activation='relu')(encoded_image)\n",
    "counter_out = Dense(max_digits, activation='softmax', name='counter_out')(counter_out)\n",
    "\n",
    "index_in = Input(shape=(1,), name='index_in')\n",
    "merged = merge([encoded_image, index_in], mode='concat')\n",
    "\n",
    "label_out = Dense(1024, activation='relu')(merged)\n",
    "label_out = Dense(512, activation='relu')(label_out)\n",
    "label_out = Dense(10, activation='softmax', name='label_out')(label_out)\n",
    "\n",
    "model = Model(input=[image_in,index_in], output=[counter_out, label_out])\n",
    "model.compile(optimizer='adamax', loss=['categorical_crossentropy','categorical_crossentropy'], metrics=['accuracy'])"
   ]
  },
  {
   "cell_type": "code",
   "execution_count": null,
   "metadata": {
    "collapsed": false
   },
   "outputs": [],
   "source": [
    "reload(keras_utils)"
   ]
  },
  {
   "cell_type": "code",
   "execution_count": null,
   "metadata": {
    "collapsed": false
   },
   "outputs": [],
   "source": [
    "# DynamicPlot callback displays dynamically updated training metrics plots instead of default progress bars\n",
    "# This gives a concise but dynamic training view instead of thousands of lines of epoch metrics\n",
    "%matplotlib notebook\n",
    "fig,axes = plt.subplots(2,2, figsize=(13.5,8))\n",
    "fig.tight_layout()\n",
    "counterLossPlot = keras_utils.DynamicPlot(metrics=['counter_out_loss','val_counter_out_loss'], axes=axes[0,0])\n",
    "counterAccPlot = keras_utils.DynamicPlot(metrics=['counter_out_acc','val_counter_out_acc'], axes=axes[0,1])\n",
    "labelLossPlot = keras_utils.DynamicPlot(metrics=['label_out_loss','val_label_out_loss'], axes=axes[1,0])\n",
    "labelAccPlot = keras_utils.DynamicPlot(metrics=['label_out_acc','val_label_out_acc'], axes=axes[1,1])\n",
    "\n",
    "# checkpoint the model\n",
    "from keras.callbacks import ModelCheckpoint\n",
    "checkpoint = ModelCheckpoint(checkpoint_path, monitor='val_acc', verbose=0, save_best_only=True, mode='max')\n",
    "\n",
    "history = model.fit([Ximg,Xidx], \n",
    "                    [np_utils.to_categorical(ycount, max_digits),np_utils.to_categorical(ylabel, 10)], \n",
    "                    nb_epoch=20, \n",
    "                    batch_size=32, \n",
    "                    shuffle=True, \n",
    "                    validation_split=0.1,\n",
    "                    verbose=0,\n",
    "                    callbacks=[counterLossPlot,counterAccPlot,labelLossPlot,labelAccPlot,checkpoint])"
   ]
  },
  {
   "cell_type": "code",
   "execution_count": null,
   "metadata": {
    "collapsed": false
   },
   "outputs": [],
   "source": [
    "Ximg_t, Xidx_t, ycount_t, ycoord_t, ylabel_t = generateData(rawdata, 100)\n",
    "ycount_p,ylabel_p = model.predict([Ximg_t,Xidx_t])\n",
    "ycount_p = np.argmax(ycount_p, axis=1)\n",
    "ylabel_p = np.argmax(ylabel_p, axis=1)"
   ]
  },
  {
   "cell_type": "code",
   "execution_count": null,
   "metadata": {
    "collapsed": false
   },
   "outputs": [],
   "source": [
    "%matplotlib inline\n",
    "from sklearn.metrics import classification_report\n",
    "from sklearn.metrics import f1_score\n",
    "\n",
    "print \"Counter metrics :\"\n",
    "print classification_report(ycount_t, ycount_p)\n",
    "\n",
    "print \"Label metrics :\"\n",
    "print classification_report(ylabel_t, ylabel_p)"
   ]
  },
  {
   "cell_type": "code",
   "execution_count": null,
   "metadata": {
    "collapsed": false
   },
   "outputs": [],
   "source": [
    "graphics.displaySamples(Ximg_t, ytrue=ylabel_t, ypred=ylabel_p, ycounttrue=ycount_t, ycountpred=ycount_p, ycoordtrue=ycoord_t)"
   ]
  },
  {
   "cell_type": "code",
   "execution_count": null,
   "metadata": {
    "collapsed": false
   },
   "outputs": [],
   "source": [
    "showdigit = 0\n",
    "layer = 0\n",
    "        \n",
    "plt.imshow(Ximg_t[showdigit])\n",
    "graphics.showCNNConv(vision_model, layer, Ximg_t[showdigit])"
   ]
  },
  {
   "cell_type": "code",
   "execution_count": null,
   "metadata": {
    "collapsed": true
   },
   "outputs": [],
   "source": []
  },
  {
   "cell_type": "code",
   "execution_count": null,
   "metadata": {
    "collapsed": true
   },
   "outputs": [],
   "source": []
  }
 ],
 "metadata": {
  "anaconda-cloud": {},
  "kernelspec": {
   "display_name": "Python [p27]",
   "language": "python",
   "name": "Python [p27]"
  },
  "language_info": {
   "codemirror_mode": {
    "name": "ipython",
    "version": 2
   },
   "file_extension": ".py",
   "mimetype": "text/x-python",
   "name": "python",
   "nbconvert_exporter": "python",
   "pygments_lexer": "ipython2",
   "version": "2.7.12"
  }
 },
 "nbformat": 4,
 "nbformat_minor": 1
}
